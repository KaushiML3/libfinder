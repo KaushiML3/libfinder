{
 "cells": [
  {
   "cell_type": "markdown",
   "metadata": {},
   "source": [
    "# after create the package imstall libfinder"
   ]
  },
  {
   "cell_type": "code",
   "execution_count": 1,
   "metadata": {},
   "outputs": [],
   "source": [
    "import libfinder"
   ]
  },
  {
   "cell_type": "code",
   "execution_count": 2,
   "metadata": {},
   "outputs": [
    {
     "data": {
      "text/plain": [
       "['scikit-learn',\n",
       " 'torch',\n",
       " 'tensorflow',\n",
       " 'transformers',\n",
       " 'keras',\n",
       " 'sklearn',\n",
       " 'pandas',\n",
       " 'numpy',\n",
       " 'importlib']"
      ]
     },
     "execution_count": 2,
     "metadata": {},
     "output_type": "execute_result"
    }
   ],
   "source": [
    "libfinder.get_lib_name()"
   ]
  },
  {
   "cell_type": "code",
   "execution_count": 5,
   "metadata": {},
   "outputs": [
    {
     "name": "stdout",
     "output_type": "stream",
     "text": [
      "library and versions : \n",
      "torch==2.5.1\n",
      "tensorflow==2.18.0\n",
      "transformers==4.48.2\n",
      "libfinder==0.1.0\n",
      "keras==3.8.0\n",
      "pandas==2.2.3\n",
      "numpy==2.2.2\n",
      "\n",
      "python version : 3.11.11 | packaged by Anaconda, Inc. | (main, Dec 11 2024, 16:34:19) [MSC v.1929 64 bit (AMD64)]\n",
      "\n",
      "Not_installed : {'scikit-learn', 'sklearn'}\n",
      "\n",
      "Not_available version: {'importlib'}\n",
      "new_requirements.txt file was saved.\n"
     ]
    },
    {
     "data": {
      "text/plain": [
       "{'Default_library_name': ['torch', 'tensorflow', 'transformers', 'keras'],\n",
       " 'Default_library_version': ['2.5.1', '2.18.0', '4.48.2', '3.8.0'],\n",
       " 'imported_library_name': ['libfinder', 'pandas', 'numpy'],\n",
       " 'imported_library_version': ['0.1.0', '2.2.3', '2.2.2'],\n",
       " 'system_version ': '3.11.11 | packaged by Anaconda, Inc. | (main, Dec 11 2024, 16:34:19) [MSC v.1929 64 bit (AMD64)]',\n",
       " 'Not_installed': {'scikit-learn', 'sklearn'},\n",
       " 'Not_available_version': {'importlib'}}"
      ]
     },
     "execution_count": 5,
     "metadata": {},
     "output_type": "execute_result"
    }
   ],
   "source": [
    "libfinder.get_lib_version(history=True)"
   ]
  },
  {
   "cell_type": "code",
   "execution_count": 8,
   "metadata": {},
   "outputs": [],
   "source": [
    "#Create object name=lib \n",
    "lib=libfinder.libraryfinder()"
   ]
  },
  {
   "cell_type": "code",
   "execution_count": 9,
   "metadata": {},
   "outputs": [
    {
     "name": "stdout",
     "output_type": "stream",
     "text": [
      "library and versions : \n",
      "numpy==2.2.2\n",
      "pandas==2.2.3\n",
      "\n",
      "python version : 3.11.11 | packaged by Anaconda, Inc. | (main, Dec 11 2024, 16:34:19) [MSC v.1929 64 bit (AMD64)]\n",
      "\n",
      "Not_installed : {'keras', 'torch', 'tensorflow', 'sklearn', 'transformers', 'scikit-learn'}\n",
      "\n",
      "Not_available version: {'importlib'}\n"
     ]
    },
    {
     "data": {
      "text/plain": [
       "{'Default_library_name': [],\n",
       " 'Default_library_version': [],\n",
       " 'imported_library_name': ['numpy', 'pandas'],\n",
       " 'imported_library_version': ['2.2.2', '2.2.3'],\n",
       " 'system_version ': '3.11.11 | packaged by Anaconda, Inc. | (main, Dec 11 2024, 16:34:19) [MSC v.1929 64 bit (AMD64)]',\n",
       " 'Not_installed': {'keras',\n",
       "  'scikit-learn',\n",
       "  'sklearn',\n",
       "  'tensorflow',\n",
       "  'torch',\n",
       "  'transformers'},\n",
       " 'Not_available_version': {'importlib'}}"
      ]
     },
     "execution_count": 9,
     "metadata": {},
     "output_type": "execute_result"
    }
   ],
   "source": [
    "#Get the lib versions\n",
    "lib.get_lib_version()"
   ]
  },
  {
   "cell_type": "code",
   "execution_count": 6,
   "metadata": {},
   "outputs": [
    {
     "name": "stdout",
     "output_type": "stream",
     "text": [
      "requirement3.txt file was saved.\n"
     ]
    }
   ],
   "source": [
    "#save the lib in txt file\n",
    "lib.to_txt(\"requirement3.txt\")"
   ]
  }
 ],
 "metadata": {
  "colab": {
   "authorship_tag": "ABX9TyOBnACLqApd+seQo8ISnfin",
   "provenance": []
  },
  "kernelspec": {
   "display_name": "pythonenv",
   "language": "python",
   "name": "python3"
  },
  "language_info": {
   "codemirror_mode": {
    "name": "ipython",
    "version": 3
   },
   "file_extension": ".py",
   "mimetype": "text/x-python",
   "name": "python",
   "nbconvert_exporter": "python",
   "pygments_lexer": "ipython3",
   "version": "3.11.11"
  }
 },
 "nbformat": 4,
 "nbformat_minor": 0
}
